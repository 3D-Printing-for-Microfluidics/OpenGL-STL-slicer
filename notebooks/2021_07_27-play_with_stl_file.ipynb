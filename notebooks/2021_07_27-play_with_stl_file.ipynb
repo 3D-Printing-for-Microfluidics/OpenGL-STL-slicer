{
 "cells": [
  {
   "cell_type": "code",
   "execution_count": 1,
   "id": "bottom-asset",
   "metadata": {},
   "outputs": [
    {
     "data": {
      "text/plain": [
       "dtype([('normals', '<f4', (3,)), ('vectors', '<f4', (3, 3)), ('attr', '<u2', (1,))])"
      ]
     },
     "execution_count": 1,
     "metadata": {},
     "output_type": "execute_result"
    }
   ],
   "source": [
    "from pathlib import Path\n",
    "\n",
    "import numpy as np\n",
    "from stl import mesh\n",
    "\n",
    "from mpl_toolkits import mplot3d\n",
    "from matplotlib import pyplot as plt\n",
    "%matplotlib widget\n",
    "\n",
    "\n",
    "mesh.Mesh.dtype"
   ]
  },
  {
   "cell_type": "code",
   "execution_count": 2,
   "id": "crude-plymouth",
   "metadata": {},
   "outputs": [
    {
     "data": {
      "text/plain": [
       "PosixPath('/Users/nordin/Documents/Projects/3D_printer_slicers/OpenGL-STL-slicer/example-pyramid.stl')"
      ]
     },
     "execution_count": 2,
     "metadata": {},
     "output_type": "execute_result"
    }
   ],
   "source": [
    "stl_file = Path('.').resolve().parent / 'example-pyramid.stl'\n",
    "stl_file"
   ]
  },
  {
   "cell_type": "code",
   "execution_count": 3,
   "id": "irish-express",
   "metadata": {},
   "outputs": [
    {
     "data": {
      "text/plain": [
       "<stl.mesh.Mesh at 0x7fd400697700>"
      ]
     },
     "execution_count": 3,
     "metadata": {},
     "output_type": "execute_result"
    }
   ],
   "source": [
    "example_mesh = mesh.Mesh.from_file(stl_file)\n",
    "example_mesh"
   ]
  },
  {
   "cell_type": "code",
   "execution_count": 4,
   "id": "heard-description",
   "metadata": {},
   "outputs": [
    {
     "data": {
      "text/plain": [
       "20"
      ]
     },
     "execution_count": 4,
     "metadata": {},
     "output_type": "execute_result"
    }
   ],
   "source": [
    "len(example_mesh.points)"
   ]
  },
  {
   "cell_type": "code",
   "execution_count": 5,
   "id": "broadband-tyler",
   "metadata": {},
   "outputs": [
    {
     "data": {
      "text/plain": [
       "array([[3.0e+00, 2.0e+00, 5.0e+00, 5.0e+00, 3.0e+00, 5.0e+00, 3.0e+00,\n",
       "        3.0e+00, 5.0e+00],\n",
       "       [0.0e+00, 1.0e+01, 0.0e+00, 0.0e+00, 1.0e+01, 1.0e-02, 1.5e+01,\n",
       "        1.0e+01, 0.0e+00],\n",
       "       [1.5e+01, 0.0e+00, 0.0e+00, 1.5e+01, 1.0e+01, 0.0e+00, 1.5e+01,\n",
       "        0.0e+00, 1.0e-02],\n",
       "       [1.5e+01, 0.0e+00, 1.0e-02, 5.0e+00, 2.0e+00, 5.0e+00, 0.0e+00,\n",
       "        0.0e+00, 1.0e-02],\n",
       "       [1.5e+01, 1.0e+01, 0.0e+00, 0.0e+00, 1.0e+01, 1.0e-02, 1.5e+01,\n",
       "        1.0e+01, 1.0e-02],\n",
       "       [5.0e+00, 3.0e+00, 5.0e+00, 0.0e+00, 1.0e+01, 1.0e-02, 3.0e+00,\n",
       "        3.0e+00, 5.0e+00],\n",
       "       [0.0e+00, 0.0e+00, 0.0e+00, 1.5e+01, 1.0e+01, 0.0e+00, 1.5e+01,\n",
       "        0.0e+00, 0.0e+00],\n",
       "       [0.0e+00, 1.0e+01, 0.0e+00, 1.5e+01, 1.0e+01, 0.0e+00, 0.0e+00,\n",
       "        0.0e+00, 0.0e+00],\n",
       "       [1.5e+01, 1.0e+01, 1.0e-02, 5.0e+00, 3.0e+00, 5.0e+00, 1.5e+01,\n",
       "        0.0e+00, 1.0e-02],\n",
       "       [0.0e+00, 0.0e+00, 1.0e-02, 5.0e+00, 2.0e+00, 5.0e+00, 3.0e+00,\n",
       "        2.0e+00, 5.0e+00],\n",
       "       [3.0e+00, 2.0e+00, 5.0e+00, 0.0e+00, 1.0e+01, 1.0e-02, 0.0e+00,\n",
       "        0.0e+00, 1.0e-02],\n",
       "       [3.0e+00, 3.0e+00, 5.0e+00, 0.0e+00, 1.0e+01, 1.0e-02, 3.0e+00,\n",
       "        2.0e+00, 5.0e+00],\n",
       "       [1.5e+01, 0.0e+00, 1.0e-02, 0.0e+00, 0.0e+00, 0.0e+00, 1.5e+01,\n",
       "        0.0e+00, 0.0e+00],\n",
       "       [0.0e+00, 0.0e+00, 1.0e-02, 0.0e+00, 0.0e+00, 0.0e+00, 1.5e+01,\n",
       "        0.0e+00, 1.0e-02],\n",
       "       [1.5e+01, 1.0e+01, 1.0e-02, 0.0e+00, 1.0e+01, 1.0e-02, 5.0e+00,\n",
       "        3.0e+00, 5.0e+00],\n",
       "       [1.5e+01, 0.0e+00, 1.0e-02, 1.5e+01, 1.0e+01, 0.0e+00, 1.5e+01,\n",
       "        1.0e+01, 1.0e-02],\n",
       "       [5.0e+00, 2.0e+00, 5.0e+00, 5.0e+00, 3.0e+00, 5.0e+00, 3.0e+00,\n",
       "        2.0e+00, 5.0e+00],\n",
       "       [1.5e+01, 0.0e+00, 1.0e-02, 5.0e+00, 3.0e+00, 5.0e+00, 5.0e+00,\n",
       "        2.0e+00, 5.0e+00],\n",
       "       [0.0e+00, 0.0e+00, 0.0e+00, 0.0e+00, 1.0e+01, 1.0e-02, 0.0e+00,\n",
       "        1.0e+01, 0.0e+00],\n",
       "       [0.0e+00, 0.0e+00, 1.0e-02, 0.0e+00, 1.0e+01, 1.0e-02, 0.0e+00,\n",
       "        0.0e+00, 0.0e+00]], dtype=float32)"
      ]
     },
     "execution_count": 5,
     "metadata": {},
     "output_type": "execute_result"
    }
   ],
   "source": [
    "example_mesh.points"
   ]
  },
  {
   "cell_type": "code",
   "execution_count": 6,
   "id": "sitting-limitation",
   "metadata": {},
   "outputs": [
    {
     "data": {
      "text/plain": [
       "array([3., 2., 5., 5., 3., 5., 3., 3., 5.], dtype=float32)"
      ]
     },
     "execution_count": 6,
     "metadata": {},
     "output_type": "execute_result"
    }
   ],
   "source": [
    "example_mesh.points[0]"
   ]
  },
  {
   "cell_type": "code",
   "execution_count": 10,
   "id": "coordinated-disclaimer",
   "metadata": {},
   "outputs": [
    {
     "data": {
      "text/plain": [
       "20"
      ]
     },
     "execution_count": 10,
     "metadata": {},
     "output_type": "execute_result"
    }
   ],
   "source": [
    "len(example_mesh.vectors)"
   ]
  },
  {
   "cell_type": "code",
   "execution_count": 9,
   "id": "negative-concentration",
   "metadata": {},
   "outputs": [
    {
     "data": {
      "text/plain": [
       "array([[[3.0e+00, 2.0e+00, 5.0e+00],\n",
       "        [5.0e+00, 3.0e+00, 5.0e+00],\n",
       "        [3.0e+00, 3.0e+00, 5.0e+00]],\n",
       "\n",
       "       [[0.0e+00, 1.0e+01, 0.0e+00],\n",
       "        [0.0e+00, 1.0e+01, 1.0e-02],\n",
       "        [1.5e+01, 1.0e+01, 0.0e+00]],\n",
       "\n",
       "       [[1.5e+01, 0.0e+00, 0.0e+00],\n",
       "        [1.5e+01, 1.0e+01, 0.0e+00],\n",
       "        [1.5e+01, 0.0e+00, 1.0e-02]],\n",
       "\n",
       "       [[1.5e+01, 0.0e+00, 1.0e-02],\n",
       "        [5.0e+00, 2.0e+00, 5.0e+00],\n",
       "        [0.0e+00, 0.0e+00, 1.0e-02]],\n",
       "\n",
       "       [[1.5e+01, 1.0e+01, 0.0e+00],\n",
       "        [0.0e+00, 1.0e+01, 1.0e-02],\n",
       "        [1.5e+01, 1.0e+01, 1.0e-02]],\n",
       "\n",
       "       [[5.0e+00, 3.0e+00, 5.0e+00],\n",
       "        [0.0e+00, 1.0e+01, 1.0e-02],\n",
       "        [3.0e+00, 3.0e+00, 5.0e+00]],\n",
       "\n",
       "       [[0.0e+00, 0.0e+00, 0.0e+00],\n",
       "        [1.5e+01, 1.0e+01, 0.0e+00],\n",
       "        [1.5e+01, 0.0e+00, 0.0e+00]],\n",
       "\n",
       "       [[0.0e+00, 1.0e+01, 0.0e+00],\n",
       "        [1.5e+01, 1.0e+01, 0.0e+00],\n",
       "        [0.0e+00, 0.0e+00, 0.0e+00]],\n",
       "\n",
       "       [[1.5e+01, 1.0e+01, 1.0e-02],\n",
       "        [5.0e+00, 3.0e+00, 5.0e+00],\n",
       "        [1.5e+01, 0.0e+00, 1.0e-02]],\n",
       "\n",
       "       [[0.0e+00, 0.0e+00, 1.0e-02],\n",
       "        [5.0e+00, 2.0e+00, 5.0e+00],\n",
       "        [3.0e+00, 2.0e+00, 5.0e+00]],\n",
       "\n",
       "       [[3.0e+00, 2.0e+00, 5.0e+00],\n",
       "        [0.0e+00, 1.0e+01, 1.0e-02],\n",
       "        [0.0e+00, 0.0e+00, 1.0e-02]],\n",
       "\n",
       "       [[3.0e+00, 3.0e+00, 5.0e+00],\n",
       "        [0.0e+00, 1.0e+01, 1.0e-02],\n",
       "        [3.0e+00, 2.0e+00, 5.0e+00]],\n",
       "\n",
       "       [[1.5e+01, 0.0e+00, 1.0e-02],\n",
       "        [0.0e+00, 0.0e+00, 0.0e+00],\n",
       "        [1.5e+01, 0.0e+00, 0.0e+00]],\n",
       "\n",
       "       [[0.0e+00, 0.0e+00, 1.0e-02],\n",
       "        [0.0e+00, 0.0e+00, 0.0e+00],\n",
       "        [1.5e+01, 0.0e+00, 1.0e-02]],\n",
       "\n",
       "       [[1.5e+01, 1.0e+01, 1.0e-02],\n",
       "        [0.0e+00, 1.0e+01, 1.0e-02],\n",
       "        [5.0e+00, 3.0e+00, 5.0e+00]],\n",
       "\n",
       "       [[1.5e+01, 0.0e+00, 1.0e-02],\n",
       "        [1.5e+01, 1.0e+01, 0.0e+00],\n",
       "        [1.5e+01, 1.0e+01, 1.0e-02]],\n",
       "\n",
       "       [[5.0e+00, 2.0e+00, 5.0e+00],\n",
       "        [5.0e+00, 3.0e+00, 5.0e+00],\n",
       "        [3.0e+00, 2.0e+00, 5.0e+00]],\n",
       "\n",
       "       [[1.5e+01, 0.0e+00, 1.0e-02],\n",
       "        [5.0e+00, 3.0e+00, 5.0e+00],\n",
       "        [5.0e+00, 2.0e+00, 5.0e+00]],\n",
       "\n",
       "       [[0.0e+00, 0.0e+00, 0.0e+00],\n",
       "        [0.0e+00, 1.0e+01, 1.0e-02],\n",
       "        [0.0e+00, 1.0e+01, 0.0e+00]],\n",
       "\n",
       "       [[0.0e+00, 0.0e+00, 1.0e-02],\n",
       "        [0.0e+00, 1.0e+01, 1.0e-02],\n",
       "        [0.0e+00, 0.0e+00, 0.0e+00]]], dtype=float32)"
      ]
     },
     "execution_count": 9,
     "metadata": {},
     "output_type": "execute_result"
    }
   ],
   "source": [
    "example_mesh.vectors"
   ]
  },
  {
   "cell_type": "code",
   "execution_count": 7,
   "id": "medical-capacity",
   "metadata": {},
   "outputs": [
    {
     "data": {
      "text/plain": [
       "array([[3., 2., 5.],\n",
       "       [5., 3., 5.],\n",
       "       [3., 3., 5.]], dtype=float32)"
      ]
     },
     "execution_count": 7,
     "metadata": {},
     "output_type": "execute_result"
    }
   ],
   "source": [
    "example_mesh.vectors[0]"
   ]
  },
  {
   "cell_type": "code",
   "execution_count": 8,
   "id": "downtown-closing",
   "metadata": {},
   "outputs": [
    {
     "data": {
      "text/plain": [
       "array([5., 3., 5.], dtype=float32)"
      ]
     },
     "execution_count": 8,
     "metadata": {},
     "output_type": "execute_result"
    }
   ],
   "source": [
    "example_mesh.vectors[0][1]"
   ]
  },
  {
   "cell_type": "code",
   "execution_count": 11,
   "id": "sensitive-string",
   "metadata": {},
   "outputs": [
    {
     "name": "stdout",
     "output_type": "stream",
     "text": [
      "{0.0, 3.0, 5.0, 15.0}\n",
      "{10.0, 0.0, 2.0, 3.0}\n",
      "{0.0, 0.01, 5.0}\n"
     ]
    }
   ],
   "source": [
    "x_values = set()\n",
    "y_values = set()\n",
    "z_values = set()\n",
    "for vectors in example_mesh.vectors:\n",
    "    for vector in vectors:\n",
    "        x_values.add(vector[0])\n",
    "        y_values.add(vector[1])\n",
    "        z_values.add(vector[2])\n",
    "    # print(vectors)\n",
    "print(x_values)\n",
    "print(y_values)\n",
    "print(z_values)"
   ]
  },
  {
   "cell_type": "code",
   "execution_count": null,
   "id": "tropical-looking",
   "metadata": {},
   "outputs": [],
   "source": []
  },
  {
   "cell_type": "code",
   "execution_count": 6,
   "id": "liable-piece",
   "metadata": {},
   "outputs": [
    {
     "data": {
      "application/vnd.jupyter.widget-view+json": {
       "model_id": "",
       "version_major": 2,
       "version_minor": 0
      },
      "text/plain": [
       "Canvas(toolbar=Toolbar(toolitems=[('Home', 'Reset original view', 'home', 'home'), ('Back', 'Back to previous …"
      ]
     },
     "metadata": {},
     "output_type": "display_data"
    }
   ],
   "source": [
    "figure = plt.figure()\n",
    "# axes = mplot3d.Axes3D(figure)\n",
    "ax = figure.add_subplot(111, projection=\"3d\")\n",
    "\n",
    "# Add the vectors to the plot\n",
    "ax.add_collection3d(mplot3d.art3d.Poly3DCollection(example_mesh.vectors))\n",
    "# Auto scale to the mesh size\n",
    "scale = example_mesh.points.flatten()\n",
    "#ax.auto_scale_xyz(scale, scale, scale)\n"
   ]
  },
  {
   "cell_type": "code",
   "execution_count": null,
   "id": "fixed-guatemala",
   "metadata": {},
   "outputs": [],
   "source": []
  },
  {
   "cell_type": "code",
   "execution_count": 9,
   "id": "utility-compound",
   "metadata": {},
   "outputs": [
    {
     "name": "stdout",
     "output_type": "stream",
     "text": [
      "Help on Mesh in module stl.mesh object:\n",
      "\n",
      "class Mesh(stl.stl.BaseStl)\n",
      " |  Mesh(*args, **kwargs)\n",
      " |  \n",
      " |  Mesh object with easy access to the vectors through v0, v1 and v2.\n",
      " |  The normals, areas, min, max and units are calculated automatically.\n",
      " |  \n",
      " |  :param numpy.array data: The data for this mesh\n",
      " |  :param bool calculate_normals: Whether to calculate the normals\n",
      " |  :param bool remove_empty_areas: Whether to remove triangles with 0 area\n",
      " |          (due to rounding errors for example)\n",
      " |  \n",
      " |  :ivar str name: Name of the solid, only exists in ASCII files\n",
      " |  :ivar numpy.array data: Data as :func:`BaseMesh.dtype`\n",
      " |  :ivar numpy.array points: All points (Nx9)\n",
      " |  :ivar numpy.array normals: Normals for this mesh, calculated automatically\n",
      " |      by default (Nx3)\n",
      " |  :ivar numpy.array vectors: Vectors in the mesh (Nx3x3)\n",
      " |  :ivar numpy.array attr: Attributes per vector (used by binary STL)\n",
      " |  :ivar numpy.array x: Points on the X axis by vertex (Nx3)\n",
      " |  :ivar numpy.array y: Points on the Y axis by vertex (Nx3)\n",
      " |  :ivar numpy.array z: Points on the Z axis by vertex (Nx3)\n",
      " |  :ivar numpy.array v0: Points in vector 0 (Nx3)\n",
      " |  :ivar numpy.array v1: Points in vector 1 (Nx3)\n",
      " |  :ivar numpy.array v2: Points in vector 2 (Nx3)\n",
      " |  \n",
      " |  >>> data = numpy.zeros(10, dtype=BaseMesh.dtype)\n",
      " |  >>> mesh = BaseMesh(data, remove_empty_areas=False)\n",
      " |  >>> # Increment vector 0 item 0\n",
      " |  >>> mesh.v0[0] += 1\n",
      " |  >>> mesh.v1[0] += 2\n",
      " |  \n",
      " |  >>> # Check item 0 (contains v0, v1 and v2)\n",
      " |  >>> assert numpy.array_equal(\n",
      " |  ...     mesh[0],\n",
      " |  ...     numpy.array([1., 1., 1., 2., 2., 2., 0., 0., 0.]))\n",
      " |  >>> assert numpy.array_equal(\n",
      " |  ... mesh.vectors[0],\n",
      " |  ... numpy.array([[1., 1., 1.],\n",
      " |  ...     [2., 2., 2.],\n",
      " |  ...     [0., 0., 0.]]))\n",
      " |  >>> assert numpy.array_equal(\n",
      " |  ...     mesh.v0[0],\n",
      " |  ...     numpy.array([1., 1., 1.]))\n",
      " |  >>> assert numpy.array_equal(\n",
      " |  ...     mesh.points[0],\n",
      " |  ...     numpy.array([1., 1., 1., 2., 2., 2., 0., 0., 0.]))\n",
      " |  >>> assert numpy.array_equal(\n",
      " |  ...     mesh.data[0],\n",
      " |  ...     numpy.array((\n",
      " |  ...             [0., 0., 0.],\n",
      " |  ...             [[1., 1., 1.], [2., 2., 2.], [0., 0., 0.]],\n",
      " |  ...             [0]),\n",
      " |  ...         dtype=BaseMesh.dtype))\n",
      " |  >>> assert numpy.array_equal(mesh.x[0], numpy.array([1., 2., 0.]))\n",
      " |  \n",
      " |  >>> mesh[0] = 3\n",
      " |  >>> assert numpy.array_equal(\n",
      " |  ...     mesh[0],\n",
      " |  ...     numpy.array([3., 3., 3., 3., 3., 3., 3., 3., 3.]))\n",
      " |  \n",
      " |  >>> len(mesh) == len(list(mesh))\n",
      " |  True\n",
      " |  >>> (mesh.min_ < mesh.max_).all()\n",
      " |  True\n",
      " |  >>> mesh.update_normals()\n",
      " |  >>> mesh.units.sum()\n",
      " |  0.0\n",
      " |  >>> mesh.v0[:] = mesh.v1[:] = mesh.v2[:] = 0\n",
      " |  >>> mesh.points.sum()\n",
      " |  0.0\n",
      " |  \n",
      " |  >>> mesh.v0 = mesh.v1 = mesh.v2 = 0\n",
      " |  >>> mesh.x = mesh.y = mesh.z = 0\n",
      " |  \n",
      " |  >>> mesh.attr = 1\n",
      " |  >>> (mesh.attr == 1).all()\n",
      " |  True\n",
      " |  \n",
      " |  >>> mesh.normals = 2\n",
      " |  >>> (mesh.normals == 2).all()\n",
      " |  True\n",
      " |  \n",
      " |  >>> mesh.vectors = 3\n",
      " |  >>> (mesh.vectors == 3).all()\n",
      " |  True\n",
      " |  \n",
      " |  >>> mesh.points = 4\n",
      " |  >>> (mesh.points == 4).all()\n",
      " |  True\n",
      " |  \n",
      " |  Method resolution order:\n",
      " |      Mesh\n",
      " |      stl.stl.BaseStl\n",
      " |      stl.base.BaseMesh\n",
      " |      python_utils.logger.Logged\n",
      " |      collections.abc.Mapping\n",
      " |      collections.abc.Collection\n",
      " |      collections.abc.Sized\n",
      " |      collections.abc.Iterable\n",
      " |      collections.abc.Container\n",
      " |      builtins.object\n",
      " |  \n",
      " |  Data and other attributes defined here:\n",
      " |  \n",
      " |  __abstractmethods__ = frozenset()\n",
      " |  \n",
      " |  logger = <Logger stl.mesh.Mesh (WARNING)>\n",
      " |  \n",
      " |  ----------------------------------------------------------------------\n",
      " |  Methods inherited from stl.stl.BaseStl:\n",
      " |  \n",
      " |  get_header(self, name)\n",
      " |  \n",
      " |  save(self, filename, fh=None, mode=<Mode.AUTOMATIC: 0>, update_normals=True)\n",
      " |      Save the STL to a (binary) file\n",
      " |      \n",
      " |      If mode is :py:data:`AUTOMATIC` an :py:data:`ASCII` file will be\n",
      " |      written if the output is a TTY and a :py:data:`BINARY` file otherwise.\n",
      " |      \n",
      " |      :param str filename: The file to load\n",
      " |      :param file fh: The file handle to open\n",
      " |      :param int mode: The mode to write, default is :py:data:`AUTOMATIC`.\n",
      " |      :param bool update_normals: Whether to update the normals\n",
      " |  \n",
      " |  ----------------------------------------------------------------------\n",
      " |  Class methods inherited from stl.stl.BaseStl:\n",
      " |  \n",
      " |  from_file(filename, calculate_normals=True, fh=None, mode=<Mode.AUTOMATIC: 0>, speedups=True, **kwargs) from abc.ABCMeta\n",
      " |      Load a mesh from a STL file\n",
      " |      \n",
      " |      :param str filename: The file to load\n",
      " |      :param bool calculate_normals: Whether to update the normals\n",
      " |      :param file fh: The file handle to open\n",
      " |      :param dict kwargs: The same as for :py:class:`stl.mesh.Mesh`\n",
      " |  \n",
      " |  from_files(filenames, calculate_normals=True, mode=<Mode.AUTOMATIC: 0>, speedups=True, **kwargs) from abc.ABCMeta\n",
      " |      Load multiple meshes from a STL file\n",
      " |      \n",
      " |      Note: mode is hardcoded to ascii since binary stl files do not support\n",
      " |      the multi format\n",
      " |      \n",
      " |      :param list(str) filenames: The files to load\n",
      " |      :param bool calculate_normals: Whether to update the normals\n",
      " |      :param file fh: The file handle to open\n",
      " |      :param dict kwargs: The same as for :py:class:`stl.mesh.Mesh`\n",
      " |  \n",
      " |  from_multi_file(filename, calculate_normals=True, fh=None, mode=<Mode.AUTOMATIC: 0>, speedups=True, **kwargs) from abc.ABCMeta\n",
      " |      Load multiple meshes from a STL file\n",
      " |      \n",
      " |      Note: mode is hardcoded to ascii since binary stl files do not support\n",
      " |      the multi format\n",
      " |      \n",
      " |      :param str filename: The file to load\n",
      " |      :param bool calculate_normals: Whether to update the normals\n",
      " |      :param file fh: The file handle to open\n",
      " |      :param dict kwargs: The same as for :py:class:`stl.mesh.Mesh`\n",
      " |  \n",
      " |  load(fh, mode=<Mode.AUTOMATIC: 0>, speedups=True) from abc.ABCMeta\n",
      " |      Load Mesh from STL file\n",
      " |      \n",
      " |      Automatically detects binary versus ascii STL files.\n",
      " |      \n",
      " |      :param file fh: The file handle to open\n",
      " |      :param int mode: Automatically detect the filetype or force binary\n",
      " |  \n",
      " |  ----------------------------------------------------------------------\n",
      " |  Methods inherited from stl.base.BaseMesh:\n",
      " |  \n",
      " |  __getitem__(self, k)\n",
      " |  \n",
      " |  __init__(self, data, calculate_normals=True, remove_empty_areas=False, remove_duplicate_polygons=<RemoveDuplicates.NONE: 0>, name='', speedups=True, **kwargs)\n",
      " |      Initialize self.  See help(type(self)) for accurate signature.\n",
      " |  \n",
      " |  __iter__(self)\n",
      " |  \n",
      " |  __len__(self)\n",
      " |  \n",
      " |  __setitem__(self, k, v)\n",
      " |  \n",
      " |  check(self)\n",
      " |      Check the mesh is valid or not\n",
      " |  \n",
      " |  debug(*args, **kwargs) from abc.ABCMeta\n",
      " |      Log a message with severity 'DEBUG' on the root logger. If the logger has\n",
      " |      no handlers, call basicConfig() to add a console handler with a pre-defined\n",
      " |      format.\n",
      " |  \n",
      " |  error(*args, **kwargs) from abc.ABCMeta\n",
      " |      Log a message with severity 'ERROR' on the root logger. If the logger has\n",
      " |      no handlers, call basicConfig() to add a console handler with a pre-defined\n",
      " |      format.\n",
      " |  \n",
      " |  exception(*args, exc_info=True, **kwargs) from abc.ABCMeta\n",
      " |      Log a message with severity 'ERROR' on the root logger, with exception\n",
      " |      information. If the logger has no handlers, basicConfig() is called to add\n",
      " |      a console handler with a pre-defined format.\n",
      " |  \n",
      " |  get_mass_properties(self)\n",
      " |      Evaluate and return a tuple with the following elements:\n",
      " |        - the volume\n",
      " |        - the position of the center of gravity (COG)\n",
      " |        - the inertia matrix expressed at the COG\n",
      " |      \n",
      " |      Documentation can be found here:\n",
      " |      http://www.geometrictools.com/Documentation/PolyhedralMassProperties.pdf\n",
      " |  \n",
      " |  get_mass_properties_with_density(self, density)\n",
      " |  \n",
      " |  get_unit_normals(self)\n",
      " |  \n",
      " |  info(*args, **kwargs) from abc.ABCMeta\n",
      " |      Log a message with severity 'INFO' on the root logger. If the logger has\n",
      " |      no handlers, call basicConfig() to add a console handler with a pre-defined\n",
      " |      format.\n",
      " |  \n",
      " |  is_closed(self)\n",
      " |      Check the mesh is closed or not\n",
      " |  \n",
      " |  log(msg, *args, **kwargs) from abc.ABCMeta\n",
      " |      Log 'msg % args' with the integer severity 'level' on the root logger. If\n",
      " |      the logger has no handlers, call basicConfig() to add a console handler\n",
      " |      with a pre-defined format.\n",
      " |  \n",
      " |  rotate(self, axis, theta=0, point=None)\n",
      " |      Rotate the matrix over the given axis by the given theta (angle)\n",
      " |      \n",
      " |      Uses the :py:func:`rotation_matrix` in the background.\n",
      " |      \n",
      " |      .. note:: Note that the `point` was accidentaly inverted with the\n",
      " |         old version of the code. To get the old and incorrect behaviour\n",
      " |         simply pass `-point` instead of `point` or `-numpy.array(point)` if\n",
      " |         you're passing along an array.\n",
      " |      \n",
      " |      :param numpy.array axis: Axis to rotate over (x, y, z)\n",
      " |      :param float theta: Rotation angle in radians, use `math.radians` to\n",
      " |                          convert degrees to radians if needed.\n",
      " |      :param numpy.array point: Rotation point so manual translation is not\n",
      " |                                required\n",
      " |  \n",
      " |  rotate_using_matrix(self, rotation_matrix, point=None)\n",
      " |      Rotate using a given rotation matrix and optional rotation point\n",
      " |      \n",
      " |      Note that this rotation produces clockwise rotations for positive\n",
      " |      angles which is arguably incorrect but will remain for legacy reasons.\n",
      " |      For more details, read here:\n",
      " |      https://github.com/WoLpH/numpy-stl/issues/166\n",
      " |  \n",
      " |  transform(self, matrix)\n",
      " |      Transform the mesh with a rotation and a translation stored in a\n",
      " |      single 4x4 matrix\n",
      " |      \n",
      " |      :param numpy.array matrix: Transform matrix with shape (4, 4), where\n",
      " |                                 matrix[0:3, 0:3] represents the rotation\n",
      " |                                 part of the transformation\n",
      " |                                 matrix[0:3, 3] represents the translation\n",
      " |                                 part of the transformation\n",
      " |  \n",
      " |  translate(self, translation)\n",
      " |      Translate the mesh in the three directions\n",
      " |      \n",
      " |      :param numpy.array translation: Translation vector (x, y, z)\n",
      " |  \n",
      " |  update_areas(self, normals=None)\n",
      " |  \n",
      " |  update_max(self)\n",
      " |  \n",
      " |  update_min(self)\n",
      " |  \n",
      " |  update_normals(self, update_areas=True)\n",
      " |      Update the normals and areas for all points\n",
      " |  \n",
      " |  update_units(self)\n",
      " |  \n",
      " |  warning(*args, **kwargs) from abc.ABCMeta\n",
      " |      Log a message with severity 'WARNING' on the root logger. If the logger has\n",
      " |      no handlers, call basicConfig() to add a console handler with a pre-defined\n",
      " |      format.\n",
      " |  \n",
      " |  ----------------------------------------------------------------------\n",
      " |  Class methods inherited from stl.base.BaseMesh:\n",
      " |  \n",
      " |  remove_duplicate_polygons(data, value=<RemoveDuplicates.SINGLE: 1>) from abc.ABCMeta\n",
      " |  \n",
      " |  remove_empty_areas(data) from abc.ABCMeta\n",
      " |  \n",
      " |  rotation_matrix(axis, theta) from abc.ABCMeta\n",
      " |      Generate a rotation matrix to Rotate the matrix over the given axis by\n",
      " |      the given theta (angle)\n",
      " |      \n",
      " |      Uses the `Euler-Rodrigues\n",
      " |      <https://en.wikipedia.org/wiki/Euler%E2%80%93Rodrigues_formula>`_\n",
      " |      formula for fast rotations.\n",
      " |      \n",
      " |      :param numpy.array axis: Axis to rotate over (x, y, z)\n",
      " |      :param float theta: Rotation angle in radians, use `math.radians` to\n",
      " |                   convert degrees to radians if needed.\n",
      " |  \n",
      " |  ----------------------------------------------------------------------\n",
      " |  Data descriptors inherited from stl.base.BaseMesh:\n",
      " |  \n",
      " |  areas\n",
      " |      Mesh areas\n",
      " |  \n",
      " |  attr\n",
      " |  \n",
      " |  max_\n",
      " |      Mesh maximum value\n",
      " |  \n",
      " |  min_\n",
      " |      Mesh minimum value\n",
      " |  \n",
      " |  normals\n",
      " |  \n",
      " |  points\n",
      " |  \n",
      " |  units\n",
      " |      Mesh unit vectors\n",
      " |  \n",
      " |  v0\n",
      " |  \n",
      " |  v1\n",
      " |  \n",
      " |  v2\n",
      " |  \n",
      " |  vectors\n",
      " |  \n",
      " |  x\n",
      " |  \n",
      " |  y\n",
      " |  \n",
      " |  z\n",
      " |  \n",
      " |  ----------------------------------------------------------------------\n",
      " |  Data and other attributes inherited from stl.base.BaseMesh:\n",
      " |  \n",
      " |  dtype = dtype([('normals', '<f4', (3,)), ('vectors', '<f4', (3, 3)), (...\n",
      " |  \n",
      " |  ----------------------------------------------------------------------\n",
      " |  Static methods inherited from python_utils.logger.Logged:\n",
      " |  \n",
      " |  __new__(cls, *args, **kwargs)\n",
      " |      Create and return a new object.  See help(type) for accurate signature.\n",
      " |  \n",
      " |  ----------------------------------------------------------------------\n",
      " |  Data descriptors inherited from python_utils.logger.Logged:\n",
      " |  \n",
      " |  __dict__\n",
      " |      dictionary for instance variables (if defined)\n",
      " |  \n",
      " |  __weakref__\n",
      " |      list of weak references to the object (if defined)\n",
      " |  \n",
      " |  ----------------------------------------------------------------------\n",
      " |  Methods inherited from collections.abc.Mapping:\n",
      " |  \n",
      " |  __contains__(self, key)\n",
      " |  \n",
      " |  __eq__(self, other)\n",
      " |      Return self==value.\n",
      " |  \n",
      " |  get(self, key, default=None)\n",
      " |      D.get(k[,d]) -> D[k] if k in D, else d.  d defaults to None.\n",
      " |  \n",
      " |  items(self)\n",
      " |      D.items() -> a set-like object providing a view on D's items\n",
      " |  \n",
      " |  keys(self)\n",
      " |      D.keys() -> a set-like object providing a view on D's keys\n",
      " |  \n",
      " |  values(self)\n",
      " |      D.values() -> an object providing a view on D's values\n",
      " |  \n",
      " |  ----------------------------------------------------------------------\n",
      " |  Data and other attributes inherited from collections.abc.Mapping:\n",
      " |  \n",
      " |  __hash__ = None\n",
      " |  \n",
      " |  __reversed__ = None\n",
      " |  \n",
      " |  ----------------------------------------------------------------------\n",
      " |  Class methods inherited from collections.abc.Collection:\n",
      " |  \n",
      " |  __subclasshook__(C) from abc.ABCMeta\n",
      " |      Abstract classes can override this to customize issubclass().\n",
      " |      \n",
      " |      This is invoked early on by abc.ABCMeta.__subclasscheck__().\n",
      " |      It should return True, False or NotImplemented.  If it returns\n",
      " |      NotImplemented, the normal algorithm is used.  Otherwise, it\n",
      " |      overrides the normal algorithm (and the outcome is cached).\n",
      "\n"
     ]
    }
   ],
   "source": [
    "help(example_mesh)"
   ]
  },
  {
   "cell_type": "code",
   "execution_count": null,
   "id": "heavy-booth",
   "metadata": {},
   "outputs": [],
   "source": []
  }
 ],
 "metadata": {
  "kernelspec": {
   "display_name": "anaconda_py38",
   "language": "python",
   "name": "anaconda_py38"
  },
  "language_info": {
   "codemirror_mode": {
    "name": "ipython",
    "version": 3
   },
   "file_extension": ".py",
   "mimetype": "text/x-python",
   "name": "python",
   "nbconvert_exporter": "python",
   "pygments_lexer": "ipython3",
   "version": "3.8.5"
  }
 },
 "nbformat": 4,
 "nbformat_minor": 5
}
